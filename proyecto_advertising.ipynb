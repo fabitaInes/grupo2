{
  "nbformat": 4,
  "nbformat_minor": 0,
  "metadata": {
    "colab": {
      "name": "proyecto_advertising.ipynb",
      "provenance": [],
      "authorship_tag": "ABX9TyPsx7D5nIkbeD/by6cr0qF4",
      "include_colab_link": true
    },
    "kernelspec": {
      "name": "python3",
      "display_name": "Python 3"
    },
    "language_info": {
      "name": "python"
    }
  },
  "cells": [
    {
      "cell_type": "markdown",
      "metadata": {
        "id": "view-in-github",
        "colab_type": "text"
      },
      "source": [
        "<a href=\"https://colab.research.google.com/github/fabitaInes/grupo2/blob/main/proyecto_advertising.ipynb\" target=\"_parent\"><img src=\"https://colab.research.google.com/assets/colab-badge.svg\" alt=\"Open In Colab\"/></a>"
      ]
    },
    {
      "cell_type": "markdown",
      "metadata": {
        "id": "Gab_Jlj8zCyJ"
      },
      "source": [
        "**Modelos de Predicción de los ingresos monetarios de una campaña de Marketing Digital**\n"
      ]
    },
    {
      "cell_type": "markdown",
      "metadata": {
        "id": "3i7U_Y6LzGOJ"
      },
      "source": [
        "\n",
        "**Análisis de los datos**"
      ]
    },
    {
      "cell_type": "code",
      "metadata": {
        "id": "OPzqSB4sy70H"
      },
      "source": [
        "import pandas as pd\n",
        "import numpy as np\n",
        "import matplotlib.pyplot as plt\n",
        "import seaborn as sns\n",
        "from sklearn import linear_model\n",
        "from sklearn.model_selection import train_test_split"
      ],
      "execution_count": null,
      "outputs": []
    },
    {
      "cell_type": "code",
      "metadata": {
        "colab": {
          "base_uri": "https://localhost:8080/"
        },
        "id": "uD3eF8cuy8Gj",
        "outputId": "f108ce30-160a-4863-ca9c-610a8b1f4761"
      },
      "source": [
        "dataset = pd.read_csv('AD-Tech.csv')\n",
        "dataset.info()"
      ],
      "execution_count": null,
      "outputs": [
        {
          "output_type": "stream",
          "name": "stdout",
          "text": [
            "<class 'pandas.core.frame.DataFrame'>\n",
            "RangeIndex: 567291 entries, 0 to 567290\n",
            "Data columns (total 18 columns):\n",
            " #   Column                   Non-Null Count   Dtype  \n",
            "---  ------                   --------------   -----  \n",
            " 0   date                     567291 non-null  object \n",
            " 1   site_id                  567291 non-null  int64  \n",
            " 2   ad_type_id               567291 non-null  int64  \n",
            " 3   geo_id                   567291 non-null  int64  \n",
            " 4   device_category_id       567291 non-null  int64  \n",
            " 5   advertiser_id            567291 non-null  int64  \n",
            " 6   order_id                 567291 non-null  int64  \n",
            " 7   line_item_type_id        567291 non-null  int64  \n",
            " 8   os_id                    567291 non-null  int64  \n",
            " 9   integration_type_id      567291 non-null  int64  \n",
            " 10  monetization_channel_id  567291 non-null  int64  \n",
            " 11  ad_unit_id               567291 non-null  int64  \n",
            " 12  total_impressions        567291 non-null  int64  \n",
            " 13  total_revenue            567291 non-null  float64\n",
            " 14  viewable_impressions     567291 non-null  int64  \n",
            " 15  measurable_impressions   567291 non-null  int64  \n",
            " 16  revenue_share_percent    567291 non-null  int64  \n",
            " 17  ip_address               567291 non-null  object \n",
            "dtypes: float64(1), int64(15), object(2)\n",
            "memory usage: 77.9+ MB\n"
          ]
        }
      ]
    },
    {
      "cell_type": "markdown",
      "metadata": {
        "id": "y9Qww2OI0WdK"
      },
      "source": [
        "Determinacion de que variables estan fuertemente correlacionadas"
      ]
    },
    {
      "cell_type": "code",
      "metadata": {
        "colab": {
          "base_uri": "https://localhost:8080/"
        },
        "id": "GNp-auPBy8KN",
        "outputId": "627138a4-29ac-4962-e233-03e21e4c4649"
      },
      "source": [
        "# obteniendo los tipos de datos del dataset\n",
        "list(set(dataset.dtypes.tolist()))"
      ],
      "execution_count": null,
      "outputs": [
        {
          "output_type": "execute_result",
          "data": {
            "text/plain": [
              "[dtype('float64'), dtype('O'), dtype('int64')]"
            ]
          },
          "metadata": {},
          "execution_count": 56
        }
      ]
    },
    {
      "cell_type": "code",
      "metadata": {
        "colab": {
          "base_uri": "https://localhost:8080/",
          "height": 226
        },
        "id": "uM5OFQTmy8Nc",
        "outputId": "b4d808de-1ba8-4dec-d1f4-0be7f2f0d528"
      },
      "source": [
        "# seleccionamos solo los de tipo float64 y int64\n",
        "dataset_num = dataset.select_dtypes(include = ['float64', 'int64'])\n",
        "dataset_num.head()"
      ],
      "execution_count": null,
      "outputs": [
        {
          "output_type": "execute_result",
          "data": {
            "text/html": [
              "<div>\n",
              "<style scoped>\n",
              "    .dataframe tbody tr th:only-of-type {\n",
              "        vertical-align: middle;\n",
              "    }\n",
              "\n",
              "    .dataframe tbody tr th {\n",
              "        vertical-align: top;\n",
              "    }\n",
              "\n",
              "    .dataframe thead th {\n",
              "        text-align: right;\n",
              "    }\n",
              "</style>\n",
              "<table border=\"1\" class=\"dataframe\">\n",
              "  <thead>\n",
              "    <tr style=\"text-align: right;\">\n",
              "      <th></th>\n",
              "      <th>site_id</th>\n",
              "      <th>ad_type_id</th>\n",
              "      <th>geo_id</th>\n",
              "      <th>device_category_id</th>\n",
              "      <th>advertiser_id</th>\n",
              "      <th>order_id</th>\n",
              "      <th>line_item_type_id</th>\n",
              "      <th>os_id</th>\n",
              "      <th>integration_type_id</th>\n",
              "      <th>monetization_channel_id</th>\n",
              "      <th>ad_unit_id</th>\n",
              "      <th>total_impressions</th>\n",
              "      <th>total_revenue</th>\n",
              "      <th>viewable_impressions</th>\n",
              "      <th>measurable_impressions</th>\n",
              "      <th>revenue_share_percent</th>\n",
              "    </tr>\n",
              "  </thead>\n",
              "  <tbody>\n",
              "    <tr>\n",
              "      <th>0</th>\n",
              "      <td>351</td>\n",
              "      <td>10</td>\n",
              "      <td>187</td>\n",
              "      <td>2</td>\n",
              "      <td>84</td>\n",
              "      <td>3473</td>\n",
              "      <td>19</td>\n",
              "      <td>60</td>\n",
              "      <td>1</td>\n",
              "      <td>4</td>\n",
              "      <td>5174</td>\n",
              "      <td>16</td>\n",
              "      <td>0.0</td>\n",
              "      <td>2</td>\n",
              "      <td>16</td>\n",
              "      <td>1</td>\n",
              "    </tr>\n",
              "    <tr>\n",
              "      <th>1</th>\n",
              "      <td>351</td>\n",
              "      <td>10</td>\n",
              "      <td>187</td>\n",
              "      <td>2</td>\n",
              "      <td>84</td>\n",
              "      <td>3473</td>\n",
              "      <td>19</td>\n",
              "      <td>58</td>\n",
              "      <td>1</td>\n",
              "      <td>4</td>\n",
              "      <td>5174</td>\n",
              "      <td>6</td>\n",
              "      <td>0.0</td>\n",
              "      <td>0</td>\n",
              "      <td>6</td>\n",
              "      <td>1</td>\n",
              "    </tr>\n",
              "    <tr>\n",
              "      <th>2</th>\n",
              "      <td>351</td>\n",
              "      <td>10</td>\n",
              "      <td>147</td>\n",
              "      <td>2</td>\n",
              "      <td>84</td>\n",
              "      <td>3473</td>\n",
              "      <td>19</td>\n",
              "      <td>60</td>\n",
              "      <td>1</td>\n",
              "      <td>4</td>\n",
              "      <td>5174</td>\n",
              "      <td>4</td>\n",
              "      <td>0.0</td>\n",
              "      <td>0</td>\n",
              "      <td>4</td>\n",
              "      <td>1</td>\n",
              "    </tr>\n",
              "    <tr>\n",
              "      <th>3</th>\n",
              "      <td>351</td>\n",
              "      <td>10</td>\n",
              "      <td>147</td>\n",
              "      <td>2</td>\n",
              "      <td>84</td>\n",
              "      <td>3473</td>\n",
              "      <td>19</td>\n",
              "      <td>58</td>\n",
              "      <td>1</td>\n",
              "      <td>4</td>\n",
              "      <td>5174</td>\n",
              "      <td>4</td>\n",
              "      <td>0.0</td>\n",
              "      <td>0</td>\n",
              "      <td>4</td>\n",
              "      <td>1</td>\n",
              "    </tr>\n",
              "    <tr>\n",
              "      <th>4</th>\n",
              "      <td>348</td>\n",
              "      <td>10</td>\n",
              "      <td>147</td>\n",
              "      <td>3</td>\n",
              "      <td>79</td>\n",
              "      <td>3463</td>\n",
              "      <td>20</td>\n",
              "      <td>59</td>\n",
              "      <td>1</td>\n",
              "      <td>19</td>\n",
              "      <td>5138</td>\n",
              "      <td>4</td>\n",
              "      <td>0.0</td>\n",
              "      <td>0</td>\n",
              "      <td>4</td>\n",
              "      <td>1</td>\n",
              "    </tr>\n",
              "  </tbody>\n",
              "</table>\n",
              "</div>"
            ],
            "text/plain": [
              "   site_id  ad_type_id  ...  measurable_impressions  revenue_share_percent\n",
              "0      351          10  ...                      16                      1\n",
              "1      351          10  ...                       6                      1\n",
              "2      351          10  ...                       4                      1\n",
              "3      351          10  ...                       4                      1\n",
              "4      348          10  ...                       4                      1\n",
              "\n",
              "[5 rows x 16 columns]"
            ]
          },
          "metadata": {},
          "execution_count": 57
        }
      ]
    },
    {
      "cell_type": "markdown",
      "metadata": {
        "id": "h5N09T-j0kSk"
      },
      "source": [
        "Tratar de determinar que variables estan fuertemente correlacionadas con las variables total_impressions y total_revenue. Seran almacenadas en la variable llamada golden_features_list. Se reutilizara dataset_num."
      ]
    },
    {
      "cell_type": "code",
      "metadata": {
        "colab": {
          "base_uri": "https://localhost:8080/"
        },
        "id": "d15NvNw2y8QD",
        "outputId": "66b0f800-84c0-444f-9c48-371f46dcf74c"
      },
      "source": [
        "df_num_cor = dataset_num.corr()['total_revenue'][:-1]\n",
        "golden_features_revenue_list = df_num_cor[abs(df_num_cor) > 0.5].sort_values(ascending=False)\n",
        "print(\"Hay {} variables fuertemente correlacionadas con la variable total_revenue:\\n{}\".format(len(golden_features_revenue_list), golden_features_revenue_list))"
      ],
      "execution_count": null,
      "outputs": [
        {
          "output_type": "stream",
          "name": "stdout",
          "text": [
            "Hay 4 variables fuertemente correlacionadas con la variable total_revenue:\n",
            "total_revenue             1.000000\n",
            "viewable_impressions      0.742076\n",
            "measurable_impressions    0.732053\n",
            "total_impressions         0.730177\n",
            "Name: total_revenue, dtype: float64\n"
          ]
        }
      ]
    },
    {
      "cell_type": "code",
      "metadata": {
        "colab": {
          "base_uri": "https://localhost:8080/",
          "height": 737
        },
        "id": "hg4bGC8dy8Ym",
        "outputId": "e6fdd258-a20d-457e-e539-7e29f4bf1f57"
      },
      "source": [
        "for i in range(0, len(dataset_num.columns), 5):\n",
        "    sns.pairplot(data=dataset_num,\n",
        "                x_vars=dataset_num.columns[i:i+5],\n",
        "                y_vars=['total_revenue'])\n",
        "plt.show()"
      ],
      "execution_count": null,
      "outputs": [
        {
          "output_type": "display_data",
          "data": {
            "image/png": "[encoded data removed]",
            "text/plain": [
              "<Figure size 900x180 with 5 Axes>"
            ]
          },
          "metadata": {
            "needs_background": "light"
          }
        },
        {
          "output_type": "display_data",
          "data": {
            "image/png": "[encoded data removed]",
            "text/plain": [
              "<Figure size 900x180 with 5 Axes>"
            ]
          },
          "metadata": {
            "needs_background": "light"
          }
        },
        {
          "output_type": "display_data",
          "data": {
            "image/png": "[encoded data removed]",
            "text/plain": [
              "<Figure size 900x180 with 6 Axes>"
            ]
          },
          "metadata": {
            "needs_background": "light"
          }
        },
        {
          "output_type": "display_data",
          "data": {
            "image/png": "[encoded data removed]",
            "text/plain": [
              "<Figure size 180x180 with 1 Axes>"
            ]
          },
          "metadata": {
            "needs_background": "light"
          }
        }
      ]
    },
    {
      "cell_type": "code",
      "metadata": {
        "colab": {
          "base_uri": "https://localhost:8080/",
          "height": 706
        },
        "id": "4t74--92y8d9",
        "outputId": "a2d8d4fb-4bac-4130-d473-3c063ccd5650"
      },
      "source": [
        "# Matriz de correlacion que muestra que variables estan fuertemente correlacionadas\n",
        "# relacion de todas las variables con todas las variables\n",
        "\n",
        "corr = dataset_num.drop('total_revenue', axis=1).corr() # ya se examino la correlacion de total_revenue\n",
        "plt.figure(figsize=(12, 10))\n",
        "\n",
        "sns.heatmap(corr[(corr >= 0.5) | (corr <= -0.4)], \n",
        "            cmap='viridis', vmax=1.0, vmin=-1.0, linewidths=0.1,\n",
        "            annot=True, annot_kws={\"size\": 8}, square=True);"
      ],
      "execution_count": null,
      "outputs": [
        {
          "output_type": "display_data",
          "data": {
            "image/png": "[encoded data removed]",
            "text/plain": [
              "<Figure size 864x720 with 2 Axes>"
            ]
          },
          "metadata": {
            "needs_background": "light"
          }
        }
      ]
    },
    {
      "cell_type": "markdown",
      "metadata": {
        "id": "ftVogMW91bQh"
      },
      "source": [
        "**Modelos de Prediccion**\n"
      ]
    },
    {
      "cell_type": "markdown",
      "metadata": {
        "id": "gs651GRD1cya"
      },
      "source": [
        "**Modelo de Regresion Lineal de solo una variable**"
      ]
    },
    {
      "cell_type": "code",
      "metadata": {
        "colab": {
          "base_uri": "https://localhost:8080/",
          "height": 363
        },
        "id": "7KGOOvCJy8g5",
        "outputId": "abcdc408-d6fb-409e-a815-4886dcbd591a"
      },
      "source": [
        "dt = dataset[['total_impressions','viewable_impressions','measurable_impressions','total_revenue']]\n",
        "dt.head(10)"
      ],
      "execution_count": null,
      "outputs": [
        {
          "output_type": "execute_result",
          "data": {
            "text/html": [
              "<div>\n",
              "<style scoped>\n",
              "    .dataframe tbody tr th:only-of-type {\n",
              "        vertical-align: middle;\n",
              "    }\n",
              "\n",
              "    .dataframe tbody tr th {\n",
              "        vertical-align: top;\n",
              "    }\n",
              "\n",
              "    .dataframe thead th {\n",
              "        text-align: right;\n",
              "    }\n",
              "</style>\n",
              "<table border=\"1\" class=\"dataframe\">\n",
              "  <thead>\n",
              "    <tr style=\"text-align: right;\">\n",
              "      <th></th>\n",
              "      <th>total_impressions</th>\n",
              "      <th>viewable_impressions</th>\n",
              "      <th>measurable_impressions</th>\n",
              "      <th>total_revenue</th>\n",
              "    </tr>\n",
              "  </thead>\n",
              "  <tbody>\n",
              "    <tr>\n",
              "      <th>0</th>\n",
              "      <td>16</td>\n",
              "      <td>2</td>\n",
              "      <td>16</td>\n",
              "      <td>0.0</td>\n",
              "    </tr>\n",
              "    <tr>\n",
              "      <th>1</th>\n",
              "      <td>6</td>\n",
              "      <td>0</td>\n",
              "      <td>6</td>\n",
              "      <td>0.0</td>\n",
              "    </tr>\n",
              "    <tr>\n",
              "      <th>2</th>\n",
              "      <td>4</td>\n",
              "      <td>0</td>\n",
              "      <td>4</td>\n",
              "      <td>0.0</td>\n",
              "    </tr>\n",
              "    <tr>\n",
              "      <th>3</th>\n",
              "      <td>4</td>\n",
              "      <td>0</td>\n",
              "      <td>4</td>\n",
              "      <td>0.0</td>\n",
              "    </tr>\n",
              "    <tr>\n",
              "      <th>4</th>\n",
              "      <td>4</td>\n",
              "      <td>0</td>\n",
              "      <td>4</td>\n",
              "      <td>0.0</td>\n",
              "    </tr>\n",
              "    <tr>\n",
              "      <th>5</th>\n",
              "      <td>2</td>\n",
              "      <td>0</td>\n",
              "      <td>2</td>\n",
              "      <td>0.0</td>\n",
              "    </tr>\n",
              "    <tr>\n",
              "      <th>6</th>\n",
              "      <td>2</td>\n",
              "      <td>2</td>\n",
              "      <td>2</td>\n",
              "      <td>0.0</td>\n",
              "    </tr>\n",
              "    <tr>\n",
              "      <th>7</th>\n",
              "      <td>2</td>\n",
              "      <td>2</td>\n",
              "      <td>2</td>\n",
              "      <td>0.0</td>\n",
              "    </tr>\n",
              "    <tr>\n",
              "      <th>8</th>\n",
              "      <td>80</td>\n",
              "      <td>80</td>\n",
              "      <td>80</td>\n",
              "      <td>0.0</td>\n",
              "    </tr>\n",
              "    <tr>\n",
              "      <th>9</th>\n",
              "      <td>92</td>\n",
              "      <td>92</td>\n",
              "      <td>92</td>\n",
              "      <td>0.0</td>\n",
              "    </tr>\n",
              "  </tbody>\n",
              "</table>\n",
              "</div>"
            ],
            "text/plain": [
              "   total_impressions  ...  total_revenue\n",
              "0                 16  ...            0.0\n",
              "1                  6  ...            0.0\n",
              "2                  4  ...            0.0\n",
              "3                  4  ...            0.0\n",
              "4                  4  ...            0.0\n",
              "5                  2  ...            0.0\n",
              "6                  2  ...            0.0\n",
              "7                  2  ...            0.0\n",
              "8                 80  ...            0.0\n",
              "9                 92  ...            0.0\n",
              "\n",
              "[10 rows x 4 columns]"
            ]
          },
          "metadata": {},
          "execution_count": 59
        }
      ]
    },
    {
      "cell_type": "code",
      "metadata": {
        "id": "-3GL_5_oy8ji"
      },
      "source": [
        "#Seleccionamos las columnas 0 del dataset para x\n",
        "X = dt.iloc[:, 0:1].values\n",
        "#Seleccionamos la columna 3 del dataset para y\n",
        "y = dt.iloc[:, 3:4].values"
      ],
      "execution_count": null,
      "outputs": []
    },
    {
      "cell_type": "code",
      "metadata": {
        "id": "IP5EVLIFy8mh"
      },
      "source": [
        "#Spliting Data\n",
        "from sklearn.model_selection import train_test_split\n",
        "X_train,X_test,y_train,y_test = train_test_split(X,y,test_size=0.2)"
      ],
      "execution_count": null,
      "outputs": []
    },
    {
      "cell_type": "code",
      "metadata": {
        "id": "zl44Yw3j1zYG"
      },
      "source": [
        "#Training Linear Regression model\n",
        "from sklearn.linear_model import LinearRegression\n",
        "regressor = LinearRegression()\n",
        "Lrr_model =regressor.fit(X_train, y_train)"
      ],
      "execution_count": null,
      "outputs": []
    },
    {
      "cell_type": "code",
      "metadata": {
        "colab": {
          "base_uri": "https://localhost:8080/"
        },
        "id": "pcnGbgfQ1zbI",
        "outputId": "264407d5-fc93-49d2-e582-0a1b2ff84f47"
      },
      "source": [
        "from sklearn.metrics import r2_score,mean_squared_error,mean_absolute_percentage_error\n",
        "y_train_pred=regressor.predict(X_train)\n",
        "\n",
        "print('Train')\n",
        "print('R2 Score:',r2_score(y_train,y_train_pred))\n",
        "print('Root Mean Squared Error:',np.sqrt(mean_squared_error(y_train,y_train_pred)))\n",
        "print('Mean Absolute Percentage Error:',mean_absolute_percentage_error(y_train,y_train_pred))\n",
        "\n",
        "y_test_pred=regressor.predict(X_test)\n",
        "\n",
        "print('\\n\\nTest')\n",
        "print('R2 Score:',r2_score(y_test,y_test_pred))\n",
        "print('Root Mean Squared Error:',np.sqrt(mean_squared_error(y_test,y_test_pred)))\n",
        "print('Mean Absolute Percentage Error:',mean_absolute_percentage_error(y_test,y_test_pred))"
      ],
      "execution_count": null,
      "outputs": [
        {
          "output_type": "stream",
          "name": "stdout",
          "text": [
            "Train\n",
            "R2 Score: 0.5212337383427081\n",
            "Root Mean Squared Error: 0.498150058286936\n",
            "Mean Absolute Percentage Error: 52743336667764.54\n",
            "\n",
            "\n",
            "Test\n",
            "R2 Score: 0.5854392482749792\n",
            "Root Mean Squared Error: 0.44275549977538664\n",
            "Mean Absolute Percentage Error: 48408744556474.54\n"
          ]
        }
      ]
    },
    {
      "cell_type": "code",
      "metadata": {
        "colab": {
          "base_uri": "https://localhost:8080/"
        },
        "id": "-rnTlqeh21Wj",
        "outputId": "c399de24-48ac-4289-db3a-a301a714783c"
      },
      "source": [
        "print('DATOS DEL MODELO REGRESIÓN LINEAL DE SOLO UNA VARIABLE')\n",
        "print()\n",
        "print('Valor de las pendientes o coeficientes \"a\":')\n",
        "print(regressor.coef_)\n",
        "print('Valor de la intersección o coeficiente \"b\":')\n",
        "print(regressor.intercept_)\n",
        "print('Precisión del modelo:')\n",
        "print(regressor.score(X_train, y_train))"
      ],
      "execution_count": null,
      "outputs": [
        {
          "output_type": "stream",
          "name": "stdout",
          "text": [
            "DATOS DEL MODELO REGRESIÓN LINEAL DE SOLO UNA VARIABLE\n",
            "\n",
            "Valor de las pendientes o coeficientes \"a\":\n",
            "[[0.00236205]]\n",
            "Valor de la intersección o coeficiente \"b\":\n",
            "[-0.00952573]\n",
            "Precisión del modelo:\n",
            "0.5212337383427081\n"
          ]
        }
      ]
    },
    {
      "cell_type": "code",
      "metadata": {
        "colab": {
          "base_uri": "https://localhost:8080/",
          "height": 295
        },
        "id": "Lkh31l-r1zd-",
        "outputId": "3a99243e-b41e-459d-889b-7de44f39845a"
      },
      "source": [
        "plt.scatter(X_train, y_train, color = 'red')\n",
        "plt.plot(X_train, Lrr_model.predict(X_train), color = 'blue')\n",
        "plt.title('Reveneu vs Total Impressions (Training set)')\n",
        "plt.xlabel('Revenue')\n",
        "plt.ylabel('Total Impression')\n",
        "plt.show()"
      ],
      "execution_count": null,
      "outputs": [
        {
          "output_type": "display_data",
          "data": {
            "image/png": "[encoded data removed]",
            "text/plain": [
              "<Figure size 432x288 with 1 Axes>"
            ]
          },
          "metadata": {
            "needs_background": "light"
          }
        }
      ]
    },
    {
      "cell_type": "markdown",
      "metadata": {
        "id": "iT0TW0Vj2FQT"
      },
      "source": [
        "**Modelo de Regresion Lineal de varias variables**"
      ]
    },
    {
      "cell_type": "code",
      "metadata": {
        "colab": {
          "base_uri": "https://localhost:8080/"
        },
        "id": "hhHkPJtr1zgs",
        "outputId": "29b3f0a7-d1df-4f5a-ef63-33c2849909f6"
      },
      "source": [
        "#Seleccionamos las columna 0, 1 y 2 del dataset\n",
        "X_multiple = dt.iloc[:, 0:3].values\n",
        "print(X_multiple)"
      ],
      "execution_count": null,
      "outputs": [
        {
          "output_type": "stream",
          "name": "stdout",
          "text": [
            "[[16  2 16]\n",
            " [ 6  0  6]\n",
            " [ 4  0  4]\n",
            " ...\n",
            " [ 2  0  2]\n",
            " [ 6  0  6]\n",
            " [12 12 12]]\n"
          ]
        }
      ]
    },
    {
      "cell_type": "code",
      "metadata": {
        "colab": {
          "base_uri": "https://localhost:8080/"
        },
        "id": "tZiLYDO92KzE",
        "outputId": "2df82e5a-ab78-4c96-f254-4ee245db7b58"
      },
      "source": [
        "y_multiple = dt.iloc[:, 3:4].values\n",
        "print(y_multiple)"
      ],
      "execution_count": null,
      "outputs": [
        {
          "output_type": "stream",
          "name": "stdout",
          "text": [
            "[[0.    ]\n",
            " [0.    ]\n",
            " [0.    ]\n",
            " ...\n",
            " [0.0046]\n",
            " [0.012 ]\n",
            " [0.024 ]]\n"
          ]
        }
      ]
    },
    {
      "cell_type": "code",
      "metadata": {
        "colab": {
          "base_uri": "https://localhost:8080/"
        },
        "id": "zwHx3yE42K2F",
        "outputId": "9d25bf74-c736-400d-f909-092eeaff2b12"
      },
      "source": [
        "#Separo los datos de \"train\" en entrenamiento y prueba para probar los algoritmos\n",
        "X_train, X_test, y_train, y_test = train_test_split(X_multiple, y_multiple, test_size=0.2)\n",
        "#Defino el algoritmo a utilizar\n",
        "lr_multiple = linear_model.LinearRegression()\n",
        "#Entreno el modelo\n",
        "lr_multiple.fit(X_train, y_train)"
      ],
      "execution_count": null,
      "outputs": [
        {
          "output_type": "execute_result",
          "data": {
            "text/plain": [
              "LinearRegression()"
            ]
          },
          "metadata": {},
          "execution_count": 68
        }
      ]
    },
    {
      "cell_type": "code",
      "metadata": {
        "colab": {
          "base_uri": "https://localhost:8080/"
        },
        "id": "ZcYFJnX72K5S",
        "outputId": "6a4358fc-a0ff-4396-b451-1c239f4a4f6c"
      },
      "source": [
        "from sklearn.metrics import r2_score,mean_squared_error,mean_absolute_percentage_error\n",
        "y_train_pred=lr_multiple.predict(X_train)\n",
        "\n",
        "print('Train')\n",
        "print('R2 Score:',r2_score(y_train,y_train_pred))\n",
        "print('Root Mean Squared Error:',np.sqrt(mean_squared_error(y_train,y_train_pred)))\n",
        "print('Mean Absolute Percentage Error:',mean_absolute_percentage_error(y_train,y_train_pred))\n",
        "\n",
        "y_test_pred=lr_multiple.predict(X_test)\n",
        "\n",
        "print('\\n\\nTest')\n",
        "print('R2 Score:',r2_score(y_test,y_test_pred))\n",
        "print('Root Mean Squared Error:',np.sqrt(mean_squared_error(y_test,y_test_pred)))\n",
        "print('Mean Absolute Percentage Error:',mean_absolute_percentage_error(y_test,y_test_pred))"
      ],
      "execution_count": null,
      "outputs": [
        {
          "output_type": "stream",
          "name": "stdout",
          "text": [
            "Train\n",
            "R2 Score: 0.5784884484460919\n",
            "Root Mean Squared Error: 0.46507135208798095\n",
            "Mean Absolute Percentage Error: 54166884425816.79\n",
            "\n",
            "\n",
            "Test\n",
            "R2 Score: 0.5915425263533385\n",
            "Root Mean Squared Error: 0.4490205590671273\n",
            "Mean Absolute Percentage Error: 51356288400675.06\n"
          ]
        }
      ]
    },
    {
      "cell_type": "code",
      "metadata": {
        "colab": {
          "base_uri": "https://localhost:8080/"
        },
        "id": "mpDUhO3w2K8A",
        "outputId": "5f9b3abc-ebbf-4354-8b34-c35dd95bc17f"
      },
      "source": [
        "print('DATOS DEL MODELO REGRESIÓN LINEAL MULTIPLE')\n",
        "print()\n",
        "print('Valor de las pendientes o coeficientes \"a\":')\n",
        "print(lr_multiple.coef_)\n",
        "print('Valor de la intersección o coeficiente \"b\":')\n",
        "print(lr_multiple.intercept_)\n",
        "print('Precisión del modelo:')\n",
        "print(lr_multiple.score(X_train, y_train))"
      ],
      "execution_count": null,
      "outputs": [
        {
          "output_type": "stream",
          "name": "stdout",
          "text": [
            "DATOS DEL MODELO REGRESIÓN LINEAL MULTIPLE\n",
            "\n",
            "Valor de las pendientes o coeficientes \"a\":\n",
            "[[ 0.00248334  0.0032992  -0.00156851]]\n",
            "Valor de la intersección o coeficiente \"b\":\n",
            "[-0.0055583]\n",
            "Precisión del modelo:\n",
            "0.5784884484460919\n"
          ]
        }
      ]
    },
    {
      "cell_type": "markdown",
      "metadata": {
        "id": "SKx08O8B3l8z"
      },
      "source": [
        "**Arbol de Decision de tipo Regressor**"
      ]
    },
    {
      "cell_type": "code",
      "metadata": {
        "id": "7IJBuyYi2K-8"
      },
      "source": [
        "# Splitting the dataset into the Training set and Test set\n",
        "from sklearn.model_selection import train_test_split\n",
        "X_train, X_test, y_train, y_test = train_test_split(X, y, test_size = 0.2)"
      ],
      "execution_count": null,
      "outputs": []
    },
    {
      "cell_type": "code",
      "metadata": {
        "colab": {
          "base_uri": "https://localhost:8080/"
        },
        "id": "fHJZJofO2LC9",
        "outputId": "bb87f86d-2741-4f8e-db26-ceff3e3b8d85"
      },
      "source": [
        "# Training the Decision Tree Regression model on the training set\n",
        "from sklearn.tree import DecisionTreeRegressor\n",
        "regressor = DecisionTreeRegressor()\n",
        "regressor.fit(X_train.reshape(-1,1), y_train.reshape(-1,1))"
      ],
      "execution_count": null,
      "outputs": [
        {
          "output_type": "execute_result",
          "data": {
            "text/plain": [
              "DecisionTreeRegressor()"
            ]
          },
          "metadata": {},
          "execution_count": 73
        }
      ]
    },
    {
      "cell_type": "code",
      "metadata": {
        "id": "0fAOBke_1zjs"
      },
      "source": [
        "# Predicting the Results\n",
        "y_pred = regressor.predict(X_test.reshape(-1,1))"
      ],
      "execution_count": null,
      "outputs": []
    },
    {
      "cell_type": "code",
      "metadata": {
        "colab": {
          "base_uri": "https://localhost:8080/",
          "height": 424
        },
        "id": "BrBpJ5ZL4CNx",
        "outputId": "aff9b488-4154-4b98-ec61-39d1a636b358"
      },
      "source": [
        " # Comparing the Real Values with Predicted Values\n",
        "df2 = pd.DataFrame({'Real Values':y_test.reshape(-1), 'Predicted Values':y_pred.reshape(-1)})\n",
        "df2"
      ],
      "execution_count": null,
      "outputs": [
        {
          "output_type": "execute_result",
          "data": {
            "text/html": [
              "<div>\n",
              "<style scoped>\n",
              "    .dataframe tbody tr th:only-of-type {\n",
              "        vertical-align: middle;\n",
              "    }\n",
              "\n",
              "    .dataframe tbody tr th {\n",
              "        vertical-align: top;\n",
              "    }\n",
              "\n",
              "    .dataframe thead th {\n",
              "        text-align: right;\n",
              "    }\n",
              "</style>\n",
              "<table border=\"1\" class=\"dataframe\">\n",
              "  <thead>\n",
              "    <tr style=\"text-align: right;\">\n",
              "      <th></th>\n",
              "      <th>Real Values</th>\n",
              "      <th>Predicted Values</th>\n",
              "    </tr>\n",
              "  </thead>\n",
              "  <tbody>\n",
              "    <tr>\n",
              "      <th>0</th>\n",
              "      <td>0.0000</td>\n",
              "      <td>2.637652e-09</td>\n",
              "    </tr>\n",
              "    <tr>\n",
              "      <th>1</th>\n",
              "      <td>0.0066</td>\n",
              "      <td>1.008486e-02</td>\n",
              "    </tr>\n",
              "    <tr>\n",
              "      <th>2</th>\n",
              "      <td>0.0592</td>\n",
              "      <td>5.248574e-02</td>\n",
              "    </tr>\n",
              "    <tr>\n",
              "      <th>3</th>\n",
              "      <td>0.0000</td>\n",
              "      <td>2.637652e-09</td>\n",
              "    </tr>\n",
              "    <tr>\n",
              "      <th>4</th>\n",
              "      <td>0.0000</td>\n",
              "      <td>2.637652e-09</td>\n",
              "    </tr>\n",
              "    <tr>\n",
              "      <th>...</th>\n",
              "      <td>...</td>\n",
              "      <td>...</td>\n",
              "    </tr>\n",
              "    <tr>\n",
              "      <th>113454</th>\n",
              "      <td>0.0000</td>\n",
              "      <td>2.637652e-09</td>\n",
              "    </tr>\n",
              "    <tr>\n",
              "      <th>113455</th>\n",
              "      <td>0.0000</td>\n",
              "      <td>2.637652e-09</td>\n",
              "    </tr>\n",
              "    <tr>\n",
              "      <th>113456</th>\n",
              "      <td>0.0760</td>\n",
              "      <td>6.735406e-02</td>\n",
              "    </tr>\n",
              "    <tr>\n",
              "      <th>113457</th>\n",
              "      <td>0.0050</td>\n",
              "      <td>2.343896e-01</td>\n",
              "    </tr>\n",
              "    <tr>\n",
              "      <th>113458</th>\n",
              "      <td>0.0000</td>\n",
              "      <td>2.637652e-09</td>\n",
              "    </tr>\n",
              "  </tbody>\n",
              "</table>\n",
              "<p>113459 rows × 2 columns</p>\n",
              "</div>"
            ],
            "text/plain": [
              "        Real Values  Predicted Values\n",
              "0            0.0000      2.637652e-09\n",
              "1            0.0066      1.008486e-02\n",
              "2            0.0592      5.248574e-02\n",
              "3            0.0000      2.637652e-09\n",
              "4            0.0000      2.637652e-09\n",
              "...             ...               ...\n",
              "113454       0.0000      2.637652e-09\n",
              "113455       0.0000      2.637652e-09\n",
              "113456       0.0760      6.735406e-02\n",
              "113457       0.0050      2.343896e-01\n",
              "113458       0.0000      2.637652e-09\n",
              "\n",
              "[113459 rows x 2 columns]"
            ]
          },
          "metadata": {},
          "execution_count": 75
        }
      ]
    },
    {
      "cell_type": "code",
      "metadata": {
        "colab": {
          "base_uri": "https://localhost:8080/",
          "height": 573
        },
        "id": "KCbCbNCv4CQb",
        "outputId": "1c403303-66f6-4934-a293-4467925bee37"
      },
      "source": [
        "# Visualising the Decision Tree Regression Results\n",
        "X_grid = np.arange(min(X), max(X), 0.01)\n",
        "X_grid = X_grid.reshape((len(X_grid), 1))\n",
        "plt.scatter(X_test, y_test, color = 'red')\n",
        "plt.scatter(X_test, y_pred, color = 'green')\n",
        "plt.title('Decision Tree Regression')\n",
        "plt.xlabel('Total Impressions')\n",
        "plt.ylabel('Revenue')\n",
        "plt.show()\n",
        "\n",
        "plt.plot(X_grid, regressor.predict(X_grid), color = 'black')\n",
        "plt.title('Decision Tree Regression')\n",
        "plt.xlabel('Total Impressions')\n",
        "plt.ylabel('Revenue')\n",
        "plt.show()"
      ],
      "execution_count": null,
      "outputs": [
        {
          "output_type": "display_data",
          "data": {
            "image/png": "[encoded data removed]",
            "text/plain": [
              "<Figure size 432x288 with 1 Axes>"
            ]
          },
          "metadata": {
            "needs_background": "light"
          }
        },
        {
          "output_type": "display_data",
          "data": {
            "image/png": "[encoded data removed]",
            "text/plain": [
              "<Figure size 432x288 with 1 Axes>"
            ]
          },
          "metadata": {
            "needs_background": "light"
          }
        }
      ]
    },
    {
      "cell_type": "code",
      "metadata": {
        "colab": {
          "base_uri": "https://localhost:8080/"
        },
        "id": "MloZWs9b4CTB",
        "outputId": "30d4c28e-a027-417b-df38-b30bada63a57"
      },
      "source": [
        "from sklearn.model_selection import cross_val_score\n",
        "print(cross_val_score(regressor, X, y, cv=3))"
      ],
      "execution_count": null,
      "outputs": [
        {
          "output_type": "stream",
          "name": "stdout",
          "text": [
            "[0.31434286 0.18729413 0.30045112]\n"
          ]
        }
      ]
    },
    {
      "cell_type": "markdown",
      "metadata": {
        "id": "t7_XxYNa4ShI"
      },
      "source": [
        "**Red Neuronal**"
      ]
    },
    {
      "cell_type": "code",
      "metadata": {
        "colab": {
          "base_uri": "https://localhost:8080/"
        },
        "id": "A9jOqjFY8NGT",
        "outputId": "fde6905e-7004-4bff-930b-e80bc928edfd"
      },
      "source": [
        "X = dataset[\"total_impressions\"]\n",
        "print(X)"
      ],
      "execution_count": null,
      "outputs": [
        {
          "output_type": "stream",
          "name": "stdout",
          "text": [
            "0         16\n",
            "1          6\n",
            "2          4\n",
            "3          4\n",
            "4          4\n",
            "          ..\n",
            "567286    12\n",
            "567287    68\n",
            "567288     2\n",
            "567289     6\n",
            "567290    12\n",
            "Name: total_impressions, Length: 567291, dtype: int64\n"
          ]
        }
      ]
    },
    {
      "cell_type": "code",
      "metadata": {
        "colab": {
          "base_uri": "https://localhost:8080/"
        },
        "id": "TdBQ0X8M8f4Y",
        "outputId": "d146572e-8d5c-48e7-be14-d96cff81dc45"
      },
      "source": [
        "y = dataset[\"total_revenue\"]\n",
        "print(y)"
      ],
      "execution_count": null,
      "outputs": [
        {
          "output_type": "stream",
          "name": "stdout",
          "text": [
            "0         0.0000\n",
            "1         0.0000\n",
            "2         0.0000\n",
            "3         0.0000\n",
            "4         0.0000\n",
            "           ...  \n",
            "567286    0.0254\n",
            "567287    0.3400\n",
            "567288    0.0046\n",
            "567289    0.0120\n",
            "567290    0.0240\n",
            "Name: total_revenue, Length: 567291, dtype: float64\n"
          ]
        }
      ]
    },
    {
      "cell_type": "code",
      "metadata": {
        "id": "TIK7TjpT_khI"
      },
      "source": [
        "import keras\n",
        "import keras.backend as kb\n",
        "import tensorflow as tf"
      ],
      "execution_count": null,
      "outputs": []
    },
    {
      "cell_type": "code",
      "metadata": {
        "id": "IEgJXZi__zGE"
      },
      "source": [
        "model = keras.Sequential([\n",
        "                          keras.layers.Dense(3, activation=tf.nn.relu, input_shape=[1]),\n",
        "                          #keras.layers.Dense(7, activation=tf.nn.relu),\n",
        "                          #keras.layers.Dense(3, activation=tf.nn.relu),\n",
        "                          keras.layers.Dense(1)\n",
        "])\n",
        "optimizer = tf.keras.optimizers.RMSprop(learning_rate=0.01)\n",
        "model.compile(loss='mean_squared_error',\n",
        "              optimizer=optimizer,\n",
        "              metrics=['mean_absolute_error','mean_squared_error'])"
      ],
      "execution_count": null,
      "outputs": []
    },
    {
      "cell_type": "code",
      "metadata": {
        "colab": {
          "base_uri": "https://localhost:8080/"
        },
        "id": "8UwTKNHU_zKY",
        "outputId": "c8a26120-eb19-4594-c6e1-41ec8e0dcda7"
      },
      "source": [
        "model.fit(X,y,epochs=100)"
      ],
      "execution_count": null,
      "outputs": [
        {
          "output_type": "stream",
          "name": "stdout",
          "text": [
            "Epoch 1/100\n",
            "17728/17728 [==============================] - 23s 1ms/step - loss: 1.7888 - mean_absolute_error: 0.1256 - mean_squared_error: 1.7888\n",
            "Epoch 2/100\n",
            "17728/17728 [==============================] - 23s 1ms/step - loss: 0.5097 - mean_absolute_error: 0.1159 - mean_squared_error: 0.5097\n",
            "Epoch 3/100\n",
            "17728/17728 [==============================] - 23s 1ms/step - loss: 0.5097 - mean_absolute_error: 0.1156 - mean_squared_error: 0.5097\n",
            "Epoch 4/100\n",
            "17728/17728 [==============================] - 23s 1ms/step - loss: 0.5098 - mean_absolute_error: 0.1154 - mean_squared_error: 0.5098\n",
            "Epoch 5/100\n",
            "17728/17728 [==============================] - 23s 1ms/step - loss: 0.5097 - mean_absolute_error: 0.1159 - mean_squared_error: 0.5097\n",
            "Epoch 6/100\n",
            "17728/17728 [==============================] - 23s 1ms/step - loss: 0.5098 - mean_absolute_error: 0.1157 - mean_squared_error: 0.5098\n",
            "Epoch 7/100\n",
            "17728/17728 [==============================] - 23s 1ms/step - loss: 0.5097 - mean_absolute_error: 0.1156 - mean_squared_error: 0.5097\n",
            "Epoch 8/100\n",
            "17728/17728 [==============================] - 23s 1ms/step - loss: 0.5097 - mean_absolute_error: 0.1154 - mean_squared_error: 0.5097\n",
            "Epoch 9/100\n",
            "17728/17728 [==============================] - 23s 1ms/step - loss: 0.5097 - mean_absolute_error: 0.1156 - mean_squared_error: 0.5097\n",
            "Epoch 10/100\n",
            "17728/17728 [==============================] - 23s 1ms/step - loss: 0.5097 - mean_absolute_error: 0.1158 - mean_squared_error: 0.5097\n",
            "Epoch 11/100\n",
            "17728/17728 [==============================] - 23s 1ms/step - loss: 0.5097 - mean_absolute_error: 0.1156 - mean_squared_error: 0.5097\n",
            "Epoch 12/100\n",
            "17728/17728 [==============================] - 23s 1ms/step - loss: 0.5098 - mean_absolute_error: 0.1157 - mean_squared_error: 0.5098\n",
            "Epoch 13/100\n",
            "17728/17728 [==============================] - 23s 1ms/step - loss: 0.5098 - mean_absolute_error: 0.1156 - mean_squared_error: 0.5098\n",
            "Epoch 14/100\n",
            "17728/17728 [==============================] - 23s 1ms/step - loss: 0.5097 - mean_absolute_error: 0.1155 - mean_squared_error: 0.5097\n",
            "Epoch 15/100\n",
            "17728/17728 [==============================] - 23s 1ms/step - loss: 0.5097 - mean_absolute_error: 0.1159 - mean_squared_error: 0.5097\n",
            "Epoch 16/100\n",
            "17728/17728 [==============================] - 23s 1ms/step - loss: 0.5097 - mean_absolute_error: 0.1156 - mean_squared_error: 0.5097\n",
            "Epoch 17/100\n",
            "17728/17728 [==============================] - 23s 1ms/step - loss: 0.5098 - mean_absolute_error: 0.1156 - mean_squared_error: 0.5098\n",
            "Epoch 18/100\n",
            "17728/17728 [==============================] - 23s 1ms/step - loss: 0.5098 - mean_absolute_error: 0.1155 - mean_squared_error: 0.5098\n",
            "Epoch 19/100\n",
            "17728/17728 [==============================] - 23s 1ms/step - loss: 0.5097 - mean_absolute_error: 0.1157 - mean_squared_error: 0.5097\n",
            "Epoch 20/100\n",
            "17728/17728 [==============================] - 23s 1ms/step - loss: 0.5097 - mean_absolute_error: 0.1157 - mean_squared_error: 0.5097\n",
            "Epoch 21/100\n",
            "17728/17728 [==============================] - 23s 1ms/step - loss: 0.5097 - mean_absolute_error: 0.1159 - mean_squared_error: 0.5097\n",
            "Epoch 22/100\n",
            "17728/17728 [==============================] - 23s 1ms/step - loss: 0.5098 - mean_absolute_error: 0.1155 - mean_squared_error: 0.5098\n",
            "Epoch 23/100\n",
            "17728/17728 [==============================] - 23s 1ms/step - loss: 0.5097 - mean_absolute_error: 0.1157 - mean_squared_error: 0.5097\n",
            "Epoch 24/100\n",
            "17728/17728 [==============================] - 23s 1ms/step - loss: 0.5097 - mean_absolute_error: 0.1157 - mean_squared_error: 0.5097\n",
            "Epoch 25/100\n",
            "17728/17728 [==============================] - 23s 1ms/step - loss: 0.5097 - mean_absolute_error: 0.1155 - mean_squared_error: 0.5097\n",
            "Epoch 26/100\n",
            "17728/17728 [==============================] - 22s 1ms/step - loss: 0.5097 - mean_absolute_error: 0.1158 - mean_squared_error: 0.5097\n",
            "Epoch 27/100\n",
            "17728/17728 [==============================] - 23s 1ms/step - loss: 0.5097 - mean_absolute_error: 0.1156 - mean_squared_error: 0.5097\n",
            "Epoch 28/100\n",
            "17728/17728 [==============================] - 23s 1ms/step - loss: 0.5097 - mean_absolute_error: 0.1156 - mean_squared_error: 0.5097\n",
            "Epoch 29/100\n",
            "17728/17728 [==============================] - 23s 1ms/step - loss: 0.5098 - mean_absolute_error: 0.1155 - mean_squared_error: 0.5098\n",
            "Epoch 30/100\n",
            "17728/17728 [==============================] - 23s 1ms/step - loss: 0.5097 - mean_absolute_error: 0.1157 - mean_squared_error: 0.5097\n",
            "Epoch 31/100\n",
            "17728/17728 [==============================] - 23s 1ms/step - loss: 0.5097 - mean_absolute_error: 0.1156 - mean_squared_error: 0.5097\n",
            "Epoch 32/100\n",
            "17728/17728 [==============================] - 23s 1ms/step - loss: 0.5097 - mean_absolute_error: 0.1157 - mean_squared_error: 0.5097\n",
            "Epoch 33/100\n",
            "17728/17728 [==============================] - 23s 1ms/step - loss: 0.5097 - mean_absolute_error: 0.1157 - mean_squared_error: 0.5097\n",
            "Epoch 34/100\n",
            "17728/17728 [==============================] - 23s 1ms/step - loss: 0.5097 - mean_absolute_error: 0.1158 - mean_squared_error: 0.5097\n",
            "Epoch 35/100\n",
            "17728/17728 [==============================] - 22s 1ms/step - loss: 0.5097 - mean_absolute_error: 0.1158 - mean_squared_error: 0.5097\n",
            "Epoch 36/100\n",
            "17728/17728 [==============================] - 23s 1ms/step - loss: 0.5098 - mean_absolute_error: 0.1156 - mean_squared_error: 0.5098\n",
            "Epoch 37/100\n",
            "17728/17728 [==============================] - 23s 1ms/step - loss: 0.5097 - mean_absolute_error: 0.1155 - mean_squared_error: 0.5097\n",
            "Epoch 38/100\n",
            "17728/17728 [==============================] - 23s 1ms/step - loss: 0.5097 - mean_absolute_error: 0.1155 - mean_squared_error: 0.5097\n",
            "Epoch 39/100\n",
            "17728/17728 [==============================] - 23s 1ms/step - loss: 0.5097 - mean_absolute_error: 0.1156 - mean_squared_error: 0.5097\n",
            "Epoch 40/100\n",
            "17728/17728 [==============================] - 23s 1ms/step - loss: 0.5097 - mean_absolute_error: 0.1155 - mean_squared_error: 0.5097\n",
            "Epoch 41/100\n",
            "17728/17728 [==============================] - 23s 1ms/step - loss: 0.5097 - mean_absolute_error: 0.1155 - mean_squared_error: 0.5097\n",
            "Epoch 42/100\n",
            "17728/17728 [==============================] - 23s 1ms/step - loss: 0.5097 - mean_absolute_error: 0.1158 - mean_squared_error: 0.5097\n",
            "Epoch 43/100\n",
            "17728/17728 [==============================] - 23s 1ms/step - loss: 0.5097 - mean_absolute_error: 0.1157 - mean_squared_error: 0.5097\n",
            "Epoch 44/100\n",
            "17728/17728 [==============================] - 23s 1ms/step - loss: 0.5097 - mean_absolute_error: 0.1156 - mean_squared_error: 0.5097\n",
            "Epoch 45/100\n",
            "17728/17728 [==============================] - 23s 1ms/step - loss: 0.5097 - mean_absolute_error: 0.1156 - mean_squared_error: 0.5097\n",
            "Epoch 46/100\n",
            "17728/17728 [==============================] - 23s 1ms/step - loss: 0.5097 - mean_absolute_error: 0.1158 - mean_squared_error: 0.5097\n",
            "Epoch 47/100\n",
            "17728/17728 [==============================] - 23s 1ms/step - loss: 0.5098 - mean_absolute_error: 0.1155 - mean_squared_error: 0.5098\n",
            "Epoch 48/100\n",
            "17728/17728 [==============================] - 23s 1ms/step - loss: 0.5097 - mean_absolute_error: 0.1155 - mean_squared_error: 0.5097\n",
            "Epoch 49/100\n",
            "17728/17728 [==============================] - 23s 1ms/step - loss: 0.5097 - mean_absolute_error: 0.1155 - mean_squared_error: 0.5097\n",
            "Epoch 50/100\n",
            "17728/17728 [==============================] - 23s 1ms/step - loss: 0.5097 - mean_absolute_error: 0.1158 - mean_squared_error: 0.5097\n",
            "Epoch 51/100\n",
            "17728/17728 [==============================] - 23s 1ms/step - loss: 0.5097 - mean_absolute_error: 0.1156 - mean_squared_error: 0.5097\n",
            "Epoch 52/100\n",
            "17728/17728 [==============================] - 23s 1ms/step - loss: 0.5097 - mean_absolute_error: 0.1157 - mean_squared_error: 0.5097\n",
            "Epoch 53/100\n",
            "17728/17728 [==============================] - 23s 1ms/step - loss: 0.5097 - mean_absolute_error: 0.1156 - mean_squared_error: 0.5097\n",
            "Epoch 54/100\n",
            "17728/17728 [==============================] - 23s 1ms/step - loss: 0.5098 - mean_absolute_error: 0.1153 - mean_squared_error: 0.5098\n",
            "Epoch 55/100\n",
            "17728/17728 [==============================] - 22s 1ms/step - loss: 0.5097 - mean_absolute_error: 0.1157 - mean_squared_error: 0.5097\n",
            "Epoch 56/100\n",
            "17728/17728 [==============================] - 23s 1ms/step - loss: 0.5097 - mean_absolute_error: 0.1156 - mean_squared_error: 0.5097\n",
            "Epoch 57/100\n",
            "17728/17728 [==============================] - 23s 1ms/step - loss: 0.5097 - mean_absolute_error: 0.1157 - mean_squared_error: 0.5097\n",
            "Epoch 58/100\n",
            "17728/17728 [==============================] - 22s 1ms/step - loss: 0.5098 - mean_absolute_error: 0.1154 - mean_squared_error: 0.5098\n",
            "Epoch 59/100\n",
            "17728/17728 [==============================] - 23s 1ms/step - loss: 0.5097 - mean_absolute_error: 0.1159 - mean_squared_error: 0.5097\n",
            "Epoch 60/100\n",
            "17728/17728 [==============================] - 23s 1ms/step - loss: 0.5097 - mean_absolute_error: 0.1159 - mean_squared_error: 0.5097\n",
            "Epoch 61/100\n",
            "17728/17728 [==============================] - 23s 1ms/step - loss: 0.5098 - mean_absolute_error: 0.1157 - mean_squared_error: 0.5098\n",
            "Epoch 62/100\n",
            "17728/17728 [==============================] - 23s 1ms/step - loss: 0.5097 - mean_absolute_error: 0.1156 - mean_squared_error: 0.5097\n",
            "Epoch 63/100\n",
            "17728/17728 [==============================] - 23s 1ms/step - loss: 0.5097 - mean_absolute_error: 0.1156 - mean_squared_error: 0.5097\n",
            "Epoch 64/100\n",
            "17728/17728 [==============================] - 23s 1ms/step - loss: 0.5097 - mean_absolute_error: 0.1156 - mean_squared_error: 0.5097\n",
            "Epoch 65/100\n",
            "17728/17728 [==============================] - 23s 1ms/step - loss: 0.5097 - mean_absolute_error: 0.1156 - mean_squared_error: 0.5097\n",
            "Epoch 66/100\n",
            "17728/17728 [==============================] - 23s 1ms/step - loss: 0.5098 - mean_absolute_error: 0.1157 - mean_squared_error: 0.5098\n",
            "Epoch 67/100\n",
            "17728/17728 [==============================] - 23s 1ms/step - loss: 0.5097 - mean_absolute_error: 0.1157 - mean_squared_error: 0.5097\n",
            "Epoch 68/100\n",
            "17728/17728 [==============================] - 23s 1ms/step - loss: 0.5097 - mean_absolute_error: 0.1156 - mean_squared_error: 0.5097\n",
            "Epoch 69/100\n",
            "17728/17728 [==============================] - 23s 1ms/step - loss: 0.5097 - mean_absolute_error: 0.1154 - mean_squared_error: 0.5097\n",
            "Epoch 70/100\n",
            "17728/17728 [==============================] - 23s 1ms/step - loss: 0.5098 - mean_absolute_error: 0.1155 - mean_squared_error: 0.5098\n",
            "Epoch 71/100\n",
            "17728/17728 [==============================] - 23s 1ms/step - loss: 0.5097 - mean_absolute_error: 0.1157 - mean_squared_error: 0.5097\n",
            "Epoch 72/100\n",
            "17728/17728 [==============================] - 23s 1ms/step - loss: 0.5098 - mean_absolute_error: 0.1156 - mean_squared_error: 0.5098\n",
            "Epoch 73/100\n",
            "17728/17728 [==============================] - 23s 1ms/step - loss: 0.5097 - mean_absolute_error: 0.1157 - mean_squared_error: 0.5097\n",
            "Epoch 74/100\n",
            "17728/17728 [==============================] - 23s 1ms/step - loss: 0.5097 - mean_absolute_error: 0.1158 - mean_squared_error: 0.5097\n",
            "Epoch 75/100\n",
            "17728/17728 [==============================] - 23s 1ms/step - loss: 0.5097 - mean_absolute_error: 0.1158 - mean_squared_error: 0.5097\n",
            "Epoch 76/100\n",
            "17728/17728 [==============================] - 23s 1ms/step - loss: 0.5097 - mean_absolute_error: 0.1155 - mean_squared_error: 0.5097\n",
            "Epoch 77/100\n",
            "17728/17728 [==============================] - 23s 1ms/step - loss: 0.5098 - mean_absolute_error: 0.1156 - mean_squared_error: 0.5098\n",
            "Epoch 78/100\n",
            "17728/17728 [==============================] - 23s 1ms/step - loss: 0.5098 - mean_absolute_error: 0.1155 - mean_squared_error: 0.5098\n",
            "Epoch 79/100\n",
            "17728/17728 [==============================] - 23s 1ms/step - loss: 0.5097 - mean_absolute_error: 0.1157 - mean_squared_error: 0.5097\n",
            "Epoch 80/100\n",
            "17728/17728 [==============================] - 23s 1ms/step - loss: 0.5097 - mean_absolute_error: 0.1155 - mean_squared_error: 0.5097\n",
            "Epoch 81/100\n",
            "17728/17728 [==============================] - 23s 1ms/step - loss: 0.5097 - mean_absolute_error: 0.1157 - mean_squared_error: 0.5097\n",
            "Epoch 82/100\n",
            "17728/17728 [==============================] - 23s 1ms/step - loss: 0.5098 - mean_absolute_error: 0.1156 - mean_squared_error: 0.5098\n",
            "Epoch 83/100\n",
            "17728/17728 [==============================] - 23s 1ms/step - loss: 0.5097 - mean_absolute_error: 0.1155 - mean_squared_error: 0.5097\n",
            "Epoch 84/100\n",
            "17728/17728 [==============================] - 23s 1ms/step - loss: 0.5097 - mean_absolute_error: 0.1159 - mean_squared_error: 0.5097\n",
            "Epoch 85/100\n",
            "17728/17728 [==============================] - 23s 1ms/step - loss: 0.5097 - mean_absolute_error: 0.1156 - mean_squared_error: 0.5097\n",
            "Epoch 86/100\n",
            "17728/17728 [==============================] - 23s 1ms/step - loss: 0.5097 - mean_absolute_error: 0.1156 - mean_squared_error: 0.5097\n",
            "Epoch 87/100\n",
            "17728/17728 [==============================] - 23s 1ms/step - loss: 0.5097 - mean_absolute_error: 0.1155 - mean_squared_error: 0.5097\n",
            "Epoch 88/100\n",
            "17728/17728 [==============================] - 23s 1ms/step - loss: 0.5097 - mean_absolute_error: 0.1159 - mean_squared_error: 0.5097\n",
            "Epoch 89/100\n",
            "17728/17728 [==============================] - 23s 1ms/step - loss: 0.5097 - mean_absolute_error: 0.1157 - mean_squared_error: 0.5097\n",
            "Epoch 90/100\n",
            "17728/17728 [==============================] - 23s 1ms/step - loss: 0.5098 - mean_absolute_error: 0.1155 - mean_squared_error: 0.5098\n",
            "Epoch 91/100\n",
            "17728/17728 [==============================] - 23s 1ms/step - loss: 0.5098 - mean_absolute_error: 0.1156 - mean_squared_error: 0.5098\n",
            "Epoch 92/100\n",
            "17728/17728 [==============================] - 23s 1ms/step - loss: 0.5097 - mean_absolute_error: 0.1158 - mean_squared_error: 0.5097\n",
            "Epoch 93/100\n",
            "17728/17728 [==============================] - 23s 1ms/step - loss: 0.5097 - mean_absolute_error: 0.1155 - mean_squared_error: 0.5097\n",
            "Epoch 94/100\n",
            "17728/17728 [==============================] - 23s 1ms/step - loss: 0.5098 - mean_absolute_error: 0.1155 - mean_squared_error: 0.5098\n",
            "Epoch 95/100\n",
            "17728/17728 [==============================] - 23s 1ms/step - loss: 0.5098 - mean_absolute_error: 0.1154 - mean_squared_error: 0.5098\n",
            "Epoch 96/100\n",
            "17728/17728 [==============================] - 23s 1ms/step - loss: 0.5097 - mean_absolute_error: 0.1157 - mean_squared_error: 0.5097\n",
            "Epoch 97/100\n",
            "17728/17728 [==============================] - 23s 1ms/step - loss: 0.5098 - mean_absolute_error: 0.1155 - mean_squared_error: 0.5098\n",
            "Epoch 98/100\n",
            "17728/17728 [==============================] - 23s 1ms/step - loss: 0.5097 - mean_absolute_error: 0.1156 - mean_squared_error: 0.5097\n",
            "Epoch 99/100\n",
            "17728/17728 [==============================] - 23s 1ms/step - loss: 0.5098 - mean_absolute_error: 0.1154 - mean_squared_error: 0.5098\n",
            "Epoch 100/100\n",
            "17728/17728 [==============================] - 23s 1ms/step - loss: 0.5097 - mean_absolute_error: 0.1158 - mean_squared_error: 0.5097\n"
          ]
        },
        {
          "output_type": "execute_result",
          "data": {
            "text/plain": [
              "<keras.callbacks.History at 0x7fbec4de7490>"
            ]
          },
          "metadata": {},
          "execution_count": 28
        }
      ]
    },
    {
      "cell_type": "code",
      "metadata": {
        "colab": {
          "base_uri": "https://localhost:8080/"
        },
        "id": "pg0tdiHo_zOM",
        "outputId": "001c7f65-f4cb-48d8-e0e6-ddd1232e3b2a"
      },
      "source": [
        "model.predict([168])"
      ],
      "execution_count": null,
      "outputs": [
        {
          "output_type": "execute_result",
          "data": {
            "text/plain": [
              "array([[0.09363025]], dtype=float32)"
            ]
          },
          "metadata": {},
          "execution_count": 29
        }
      ]
    },
    {
      "cell_type": "code",
      "metadata": {
        "colab": {
          "base_uri": "https://localhost:8080/",
          "height": 302
        },
        "id": "U6xy-pbJL3KW",
        "outputId": "bc94d5b8-0f1a-4767-b430-590a31932e7c"
      },
      "source": [
        "import matplotlib.pyplot as plt\n",
        "plt.plot(X,model.predict(X), 'b*', X, y, 'g.')"
      ],
      "execution_count": null,
      "outputs": [
        {
          "output_type": "execute_result",
          "data": {
            "text/plain": [
              "[<matplotlib.lines.Line2D at 0x7fbeca984f10>,\n",
              " <matplotlib.lines.Line2D at 0x7fbeca99d810>]"
            ]
          },
          "metadata": {},
          "execution_count": 30
        },
        {
          "output_type": "display_data",
          "data": {
            "image/png": "[encoded data removed]",
            "text/plain": [
              "<Figure size 432x288 with 1 Axes>"
            ]
          },
          "metadata": {
            "needs_background": "light"
          }
        }
      ]
    }
  ]
}